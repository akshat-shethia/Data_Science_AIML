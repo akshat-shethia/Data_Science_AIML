{
 "cells": [
  {
   "cell_type": "markdown",
   "id": "df03e9d4-c16c-44d4-a852-919028faa72d",
   "metadata": {},
   "source": [
    "## This dataset is used for the classification task of predicting whether a person has heart disease (YES/NO)\r\n",
    "\r\n",
    "* The dataset can be found on Kaggle at the following link: [Heart Disease Dataset](https://www.kaggle.com/datasets/johnsmith88/heart-disease-dataset/data)\r\n"
   ]
  },
  {
   "cell_type": "code",
   "execution_count": 1,
   "id": "0e9af58a-6fa9-47c4-ab7a-07b7826f05a0",
   "metadata": {},
   "outputs": [],
   "source": [
    "import numpy as np\n",
    "import pandas as pd\n",
    "import matplotlib.pyplot as plt\n",
    "%matplotlib inline"
   ]
  },
  {
   "cell_type": "code",
   "execution_count": 2,
   "id": "2206a851-2059-4d62-a634-1f8eb21bd059",
   "metadata": {},
   "outputs": [],
   "source": [
    "car_sales = pd.read_csv(\"car-sales-extended.csv\")"
   ]
  },
  {
   "cell_type": "code",
   "execution_count": 3,
   "id": "aa824587-0413-4363-9925-72800dd9f2bc",
   "metadata": {},
   "outputs": [
    {
     "data": {
      "text/html": [
       "<div>\n",
       "<style scoped>\n",
       "    .dataframe tbody tr th:only-of-type {\n",
       "        vertical-align: middle;\n",
       "    }\n",
       "\n",
       "    .dataframe tbody tr th {\n",
       "        vertical-align: top;\n",
       "    }\n",
       "\n",
       "    .dataframe thead th {\n",
       "        text-align: right;\n",
       "    }\n",
       "</style>\n",
       "<table border=\"1\" class=\"dataframe\">\n",
       "  <thead>\n",
       "    <tr style=\"text-align: right;\">\n",
       "      <th></th>\n",
       "      <th>Make</th>\n",
       "      <th>Colour</th>\n",
       "      <th>Odometer (KM)</th>\n",
       "      <th>Doors</th>\n",
       "      <th>Price</th>\n",
       "    </tr>\n",
       "  </thead>\n",
       "  <tbody>\n",
       "    <tr>\n",
       "      <th>0</th>\n",
       "      <td>Honda</td>\n",
       "      <td>White</td>\n",
       "      <td>35431</td>\n",
       "      <td>4</td>\n",
       "      <td>15323</td>\n",
       "    </tr>\n",
       "    <tr>\n",
       "      <th>1</th>\n",
       "      <td>BMW</td>\n",
       "      <td>Blue</td>\n",
       "      <td>192714</td>\n",
       "      <td>5</td>\n",
       "      <td>19943</td>\n",
       "    </tr>\n",
       "    <tr>\n",
       "      <th>2</th>\n",
       "      <td>Honda</td>\n",
       "      <td>White</td>\n",
       "      <td>84714</td>\n",
       "      <td>4</td>\n",
       "      <td>28343</td>\n",
       "    </tr>\n",
       "    <tr>\n",
       "      <th>3</th>\n",
       "      <td>Toyota</td>\n",
       "      <td>White</td>\n",
       "      <td>154365</td>\n",
       "      <td>4</td>\n",
       "      <td>13434</td>\n",
       "    </tr>\n",
       "    <tr>\n",
       "      <th>4</th>\n",
       "      <td>Nissan</td>\n",
       "      <td>Blue</td>\n",
       "      <td>181577</td>\n",
       "      <td>3</td>\n",
       "      <td>14043</td>\n",
       "    </tr>\n",
       "  </tbody>\n",
       "</table>\n",
       "</div>"
      ],
      "text/plain": [
       "     Make Colour  Odometer (KM)  Doors  Price\n",
       "0   Honda  White          35431      4  15323\n",
       "1     BMW   Blue         192714      5  19943\n",
       "2   Honda  White          84714      4  28343\n",
       "3  Toyota  White         154365      4  13434\n",
       "4  Nissan   Blue         181577      3  14043"
      ]
     },
     "execution_count": 3,
     "metadata": {},
     "output_type": "execute_result"
    }
   ],
   "source": [
    "car_sales.head()"
   ]
  },
  {
   "cell_type": "code",
   "execution_count": 4,
   "id": "4cf4780f-2a65-4838-b1e0-c42d90de1320",
   "metadata": {},
   "outputs": [
    {
     "data": {
      "text/html": [
       "<div>\n",
       "<style scoped>\n",
       "    .dataframe tbody tr th:only-of-type {\n",
       "        vertical-align: middle;\n",
       "    }\n",
       "\n",
       "    .dataframe tbody tr th {\n",
       "        vertical-align: top;\n",
       "    }\n",
       "\n",
       "    .dataframe thead th {\n",
       "        text-align: right;\n",
       "    }\n",
       "</style>\n",
       "<table border=\"1\" class=\"dataframe\">\n",
       "  <thead>\n",
       "    <tr style=\"text-align: right;\">\n",
       "      <th></th>\n",
       "      <th>Odometer (KM)</th>\n",
       "      <th>Doors</th>\n",
       "      <th>Price</th>\n",
       "    </tr>\n",
       "  </thead>\n",
       "  <tbody>\n",
       "    <tr>\n",
       "      <th>count</th>\n",
       "      <td>1000.000000</td>\n",
       "      <td>1000.000000</td>\n",
       "      <td>1000.000000</td>\n",
       "    </tr>\n",
       "    <tr>\n",
       "      <th>mean</th>\n",
       "      <td>131073.708000</td>\n",
       "      <td>4.014000</td>\n",
       "      <td>16045.665000</td>\n",
       "    </tr>\n",
       "    <tr>\n",
       "      <th>std</th>\n",
       "      <td>68859.723885</td>\n",
       "      <td>0.379405</td>\n",
       "      <td>8630.794219</td>\n",
       "    </tr>\n",
       "    <tr>\n",
       "      <th>min</th>\n",
       "      <td>10148.000000</td>\n",
       "      <td>3.000000</td>\n",
       "      <td>2796.000000</td>\n",
       "    </tr>\n",
       "    <tr>\n",
       "      <th>25%</th>\n",
       "      <td>71238.000000</td>\n",
       "      <td>4.000000</td>\n",
       "      <td>9481.500000</td>\n",
       "    </tr>\n",
       "    <tr>\n",
       "      <th>50%</th>\n",
       "      <td>131202.000000</td>\n",
       "      <td>4.000000</td>\n",
       "      <td>14264.000000</td>\n",
       "    </tr>\n",
       "    <tr>\n",
       "      <th>75%</th>\n",
       "      <td>192372.750000</td>\n",
       "      <td>4.000000</td>\n",
       "      <td>20738.750000</td>\n",
       "    </tr>\n",
       "    <tr>\n",
       "      <th>max</th>\n",
       "      <td>249860.000000</td>\n",
       "      <td>5.000000</td>\n",
       "      <td>52458.000000</td>\n",
       "    </tr>\n",
       "  </tbody>\n",
       "</table>\n",
       "</div>"
      ],
      "text/plain": [
       "       Odometer (KM)        Doors         Price\n",
       "count    1000.000000  1000.000000   1000.000000\n",
       "mean   131073.708000     4.014000  16045.665000\n",
       "std     68859.723885     0.379405   8630.794219\n",
       "min     10148.000000     3.000000   2796.000000\n",
       "25%     71238.000000     4.000000   9481.500000\n",
       "50%    131202.000000     4.000000  14264.000000\n",
       "75%    192372.750000     4.000000  20738.750000\n",
       "max    249860.000000     5.000000  52458.000000"
      ]
     },
     "execution_count": 4,
     "metadata": {},
     "output_type": "execute_result"
    }
   ],
   "source": [
    "car_sales.describe() # Gives the basic description of all the rows and cols"
   ]
  },
  {
   "cell_type": "markdown",
   "id": "99172fbb-044b-42ed-8084-121916893ba0",
   "metadata": {},
   "source": [
    "# Plotting basic graphs and checking for correlations"
   ]
  },
  {
   "cell_type": "code",
   "execution_count": 5,
   "id": "4f021ed5-87d4-4003-a129-d355f2b16461",
   "metadata": {},
   "outputs": [
    {
     "name": "stdout",
     "output_type": "stream",
     "text": [
      "Group: BMW\n",
      "   Make Colour  Odometer (KM)  Doors  Price\n",
      "1   BMW   Blue         192714      5  19943\n",
      "17  BMW  White         194189      5  17177\n",
      "55  BMW  White          79937      5  48686\n",
      "57  BMW    Red         162176      5  19186\n",
      "60  BMW    Red         208124      5  24668\n",
      "65  BMW  White         178796      5  18396\n",
      "69  BMW  White          37513      5  32379\n",
      "\n",
      "Group: Honda\n",
      "     Make Colour  Odometer (KM)  Doors  Price\n",
      "0   Honda  White          35431      4  15323\n",
      "2   Honda  White          84714      4  28343\n",
      "5   Honda    Red          42652      4  23883\n",
      "7   Honda  White          43120      4  20306\n",
      "9   Honda   Blue          51029      4  26683\n",
      "14  Honda   Blue         199833      4  18946\n",
      "21  Honda   Blue          30615      4  29653\n",
      "23  Honda  Green         130075      4  21242\n",
      "24  Honda   Blue         172718      4  14274\n",
      "25  Honda   Blue         125819      4  15686\n",
      "26  Honda  White         180390      4  13344\n",
      "27  Honda  Green          82783      4  10984\n",
      "28  Honda  White          56687      4   6135\n",
      "34  Honda   Blue          71949      4  17516\n",
      "35  Honda   Blue         191622      4   8738\n",
      "42  Honda  Black         200490      4   6337\n",
      "51  Honda  White         161068      4  13698\n",
      "56  Honda  White          82039      4  15662\n",
      "61  Honda  Black          16933      4  12172\n",
      "62  Honda  Green          57198      4  25068\n",
      "63  Honda  Green          47019      4  20370\n",
      "72  Honda  White         116986      4   5648\n",
      "79  Honda   Blue         186146      4  18310\n",
      "80  Honda  Black         149879      4   8200\n",
      "87  Honda   Blue         108415      4  20936\n",
      "92  Honda  White         115183      4   6481\n",
      "93  Honda  White         130783      4   6283\n",
      "94  Honda  Green         130076      4   6762\n",
      "95  Honda   Blue         143707      4  16337\n",
      "99  Honda   Blue          48069      4  12196\n",
      "\n",
      "Group: Nissan\n",
      "      Make Colour  Odometer (KM)  Doors  Price\n",
      "4   Nissan   Blue         181577      3  14043\n",
      "8   Nissan  White         130538      4   9374\n",
      "10  Nissan  White         167421      4  16259\n",
      "11  Nissan  Green          17119      4   6160\n",
      "12  Nissan  White         102303      4  16909\n",
      "13  Nissan  White         134181      4  11121\n",
      "18  Nissan  White          67991      3   9109\n",
      "19  Nissan   Blue         215820      4   6010\n",
      "30  Nissan   Blue          34024      4  23929\n",
      "32  Nissan  White         203795      4   9330\n",
      "33  Nissan  Green         153554      3   9780\n",
      "36  Nissan   Blue          38186      4  23438\n",
      "37  Nissan  White          69888      4  15131\n",
      "38  Nissan   Blue         146430      3   9224\n",
      "45  Nissan   Blue         231057      4   5925\n",
      "48  Nissan  White         107096      3   6075\n",
      "70  Nissan  White         123121      4  22436\n",
      "82  Nissan   Blue         180021      3  13199\n",
      "85  Nissan   Blue          24219      3  10283\n",
      "86  Nissan   Blue         209359      4   3300\n",
      "88  Nissan    Red          61892      4  18160\n",
      "90  Nissan  White         197844      4   5776\n",
      "\n",
      "Group: Toyota\n",
      "      Make Colour  Odometer (KM)  Doors  Price\n",
      "3   Toyota  White         154365      4  13434\n",
      "6   Toyota   Blue         163453      4   8473\n",
      "15  Toyota   Blue         205592      4  16290\n",
      "16  Toyota    Red          96742      4  34465\n",
      "20  Toyota   Blue         124844      4  24130\n",
      "22  Toyota  White         148744      4  22489\n",
      "29  Toyota  White         112004      4  13586\n",
      "31  Toyota  White         108569      4   6866\n",
      "39  Toyota  Green         109868      4   6574\n",
      "40  Toyota  White         177894      4   9229\n",
      "41  Toyota   Blue         189209      4   7100\n",
      "43  Toyota   Blue         141617      4  19085\n",
      "44  Toyota   Blue         213893      4   5743\n",
      "46  Toyota  White         100938      4  25196\n",
      "47  Toyota   Blue         243969      4  16138\n",
      "49  Toyota  Black          86333      4   9928\n",
      "50  Toyota    Red         184878      4   7445\n",
      "52  Toyota   Blue          77646      4  17422\n",
      "53  Toyota   Blue         246817      4   8269\n",
      "54  Toyota  White         109384      4   9918\n",
      "58  Toyota    Red          97375      4  11479\n",
      "59  Toyota   Blue         230908      4  12883\n",
      "64  Toyota  White         170085      4   5383\n",
      "66  Toyota   Blue         223390      4   9648\n",
      "67  Toyota  Black          93054      4   6652\n",
      "68  Toyota   Blue          42459      4   6386\n",
      "71  Toyota  Green         204213      4   6860\n",
      "73  Toyota    Red         227262      4  12001\n",
      "74  Toyota   Blue         191232      4  18355\n",
      "75  Toyota   Blue         156478      4  20424\n",
      "76  Toyota   Blue         140465      4  15154\n",
      "77  Toyota  White         126669      4  18484\n",
      "78  Toyota   Blue         238425      4   6502\n",
      "81  Toyota   Blue          34097      4  20142\n",
      "83  Toyota   Blue         248447      4   5708\n",
      "84  Toyota  Green          61651      4  13430\n",
      "89  Toyota   Blue          90249      4  35988\n",
      "91  Toyota  White          53765      4  18595\n",
      "96  Toyota   Blue          29856      4  11392\n",
      "97  Toyota  Black         133433      4  16519\n",
      "98  Toyota    Red         147455      4  22296\n",
      "\n"
     ]
    }
   ],
   "source": [
    "grouped = car_sales[:100].groupby(\"Make\")\n",
    "for name, group in grouped:\n",
    "    print(f\"Group: {name}\")\n",
    "    print(group)\n",
    "    print()"
   ]
  },
  {
   "cell_type": "code",
   "execution_count": 6,
   "id": "7f6adafb-da39-4b0d-a15c-fcfc0a9365d7",
   "metadata": {},
   "outputs": [
    {
     "data": {
      "image/png": "[encoded data removed]",
      "text/plain": [
       "<Figure size 1000x600 with 1 Axes>"
      ]
     },
     "metadata": {},
     "output_type": "display_data"
    }
   ],
   "source": [
    "import matplotlib.pyplot as plt\n",
    "import pandas as pd\n",
    "\n",
    "# Grouped bar plot\n",
    "plt.figure(figsize=(10,6))\n",
    "car_sales[:50].groupby('Make')['Price'].plot(kind='bar', legend=True) # I have only considered the first 50 rows\n",
    "\n",
    "# Customize the plot\n",
    "plt.xlabel(\"MAKE\")\n",
    "plt.ylabel(\"PRICE\")\n",
    "plt.title(\"MAKE VS PRICE\")\n",
    "plt.axhline(car_sales[\"Price\"].mean(), linestyle='--')\n",
    "\n",
    "# Show the plot\n",
    "plt.show()"
   ]
  },
  {
   "cell_type": "markdown",
   "id": "866e8940-6e7c-40e8-84bb-9841db7f4b04",
   "metadata": {},
   "source": [
    "## Now Moving on to training our model\n",
    "- For finding our perfect model, we will use the [Model Map](https://scikit-learn.org/stable/tutorial/machine_learning_map/index.html) provided by scikit-learn!"
   ]
  },
  {
   "cell_type": "markdown",
   "id": "9aa4150d-134b-4c04-852b-6d57227d174a",
   "metadata": {},
   "source": [
    "![scikit-learn model map](ml_map.png)"
   ]
  },
  {
   "cell_type": "markdown",
   "id": "bebdc0ae-48c5-49e4-9235-5cf4e99e9d13",
   "metadata": {},
   "source": [
    "### To Compare `accuracy`, `precision`, `recall`, `f1` for all the models, we will create a function that directly does this for us \n",
    "- `accuracy` -> In multilabel classification, this function computes subset accuracy: the set of labels predicted for a sample must exactly match the corresponding set of labels in y_true.\n",
    "- `precision` -> The precision is the ratio `tp / (tp + fp)` where `tp` is the number of true positives and `fp` the number of false positives. The precision is intuitively the ability of the classifier not to label as positive a sample that is negative.\n",
    "- `recall` -> The recall is the ratio `tp / (tp + fn)` where `tp` is the number of true positives and `fn` the number of false negatives. The recall is intuitively the ability of the classifier to find all the positive samples.\n",
    "- `f1` -> The F1 score can be interpreted as a harmonic mean of the precision and recall, where an F1 score reaches its best value at 1 and worst score at 0."
   ]
  },
  {
   "cell_type": "code",
   "execution_count": 7,
   "id": "e6c1b4e4-54e6-4c0e-b82e-a6f44e05d7af",
   "metadata": {},
   "outputs": [],
   "source": [
    "def evaluate_preds(y_true: np.array, \n",
    "                   y_preds: np.array) -> dict:\n",
    "    \"\"\"\n",
    "    Performs evaluation comparison on y_true labels vs. y_pred labels.\n",
    "\n",
    "    Returns several metrics in the form of a dictionary.\n",
    "    \"\"\"\n",
    "    accuracy = accuracy_score(y_true, y_preds)\n",
    "    precision = precision_score(y_true, y_preds, average='macro',zero_division=zero_division_value)\n",
    "    recall = recall_score(y_true, y_preds, average='macro',zero_division=zero_division_value)\n",
    "    f1 = f1_score(y_true, y_preds, average='macro',zero_division=zero_division_value)\n",
    "    metric_dict = {\"accuracy\": round(accuracy, 2),\n",
    "                   \"precision\": round(precision, 2), \n",
    "                   \"recall\": round(recall, 2),\n",
    "                   \"f1\": round(f1, 2)}\n",
    "    print(f\"Acc: {accuracy * 100:.2f}%\")\n",
    "    print(f\"Precision: {precision:.2f}\")\n",
    "    print(f\"Recall: {recall:.2f}\")\n",
    "    print(f\"F1 score: {f1:.2f}\")\n",
    "\n",
    "    return metric_dict"
   ]
  },
  {
   "cell_type": "code",
   "execution_count": 8,
   "id": "e549070e-3b12-49c5-b569-b8d5316c6c9c",
   "metadata": {},
   "outputs": [],
   "source": [
    "from sklearn.model_selection import train_test_split\n",
    "from sklearn.metrics import accuracy_score, precision_score, recall_score, f1_score\n",
    "from sklearn.model_selection import cross_val_score\n",
    "\n",
    "# Setup random seed\n",
    "np.random.seed(42)\n",
    "\n",
    "# Split the data into X (features/data) and y (target/labels)\n",
    "X = car_sales.drop(\"Price\", axis=1)\n",
    "y = car_sales[\"Price\"]\n",
    "\n",
    "# Split into train and test sets\n",
    "X_train, X_test, y_train, y_test = train_test_split(X, y, test_size=0.2)"
   ]
  },
  {
   "cell_type": "code",
   "execution_count": 9,
   "id": "dc1d8378-6482-4ff9-8460-c09e05f8e7de",
   "metadata": {},
   "outputs": [
    {
     "data": {
      "text/plain": [
       "array([[0.00000e+00, 0.00000e+00, 0.00000e+00, ..., 1.00000e+00,\n",
       "        0.00000e+00, 1.12004e+05],\n",
       "       [0.00000e+00, 0.00000e+00, 0.00000e+00, ..., 1.00000e+00,\n",
       "        0.00000e+00, 3.56730e+04],\n",
       "       [0.00000e+00, 0.00000e+00, 0.00000e+00, ..., 1.00000e+00,\n",
       "        0.00000e+00, 1.46824e+05],\n",
       "       ...,\n",
       "       [0.00000e+00, 0.00000e+00, 1.00000e+00, ..., 1.00000e+00,\n",
       "        0.00000e+00, 6.18760e+04],\n",
       "       [0.00000e+00, 1.00000e+00, 0.00000e+00, ..., 1.00000e+00,\n",
       "        0.00000e+00, 2.86250e+04],\n",
       "       [0.00000e+00, 1.00000e+00, 0.00000e+00, ..., 1.00000e+00,\n",
       "        0.00000e+00, 1.50582e+05]])"
      ]
     },
     "execution_count": 9,
     "metadata": {},
     "output_type": "execute_result"
    }
   ],
   "source": [
    "# Now let's one hot encode the features with the same code as before \n",
    "from sklearn.preprocessing import OneHotEncoder\n",
    "from sklearn.compose import ColumnTransformer\n",
    "\n",
    "categorical_features = [\"Make\", \"Colour\", \"Doors\"]\n",
    "\n",
    "one_hot = OneHotEncoder()\n",
    "\n",
    "transformer = ColumnTransformer([(\"one_hot\", \n",
    "                                  one_hot, \n",
    "                                  categorical_features)],\n",
    "                                remainder=\"passthrough\",\n",
    "                                sparse_threshold=0) # return a sparse matrix or not\n",
    "\n",
    "# Fill train and test values separately\n",
    "transformed_X_train = transformer.fit_transform(X_train)\n",
    "transformed_X_test = transformer.transform(X_test)\n",
    "\n",
    "# Check transformed and filled X_train\n",
    "transformed_X_train"
   ]
  },
  {
   "cell_type": "code",
   "execution_count": 10,
   "id": "10bbbf25-07b2-44e9-adba-f3c1337d7c82",
   "metadata": {},
   "outputs": [
    {
     "data": {
      "text/plain": [
       "0.29444524256551574"
      ]
     },
     "execution_count": 10,
     "metadata": {},
     "output_type": "execute_result"
    }
   ],
   "source": [
    "# Now we've transformed X, let's see if we can fit a model\n",
    "np.random.seed(42)\n",
    "from sklearn.ensemble import RandomForestRegressor\n",
    "\n",
    "model = RandomForestRegressor()\n",
    "\n",
    "# Make sure to use the transformed data (filled and one-hot encoded X data)\n",
    "model.fit(transformed_X_train, y_train)\n",
    "model.score(transformed_X_test, y_test)"
   ]
  },
  {
   "cell_type": "code",
   "execution_count": 11,
   "id": "bc1c95d1-fcd3-466f-8b8d-2b50312ade7b",
   "metadata": {},
   "outputs": [
    {
     "data": {
      "text/plain": [
       "array([10927.08, 11265.72, 49340.38, 23287.85, 27914.52, 11812.27,\n",
       "       11517.39, 16270.25, 12880.36,  8630.92])"
      ]
     },
     "execution_count": 11,
     "metadata": {},
     "output_type": "execute_result"
    }
   ],
   "source": [
    "y_pred = model.predict(transformed_X_test) # This is our predictions array and to verify our predictions, we must use the y_test array\n",
    "y_pred[:10]"
   ]
  },
  {
   "cell_type": "code",
   "execution_count": 12,
   "id": "8a232420-d233-45db-9cf9-c3e3bfd18062",
   "metadata": {},
   "outputs": [
    {
     "data": {
      "text/plain": [
       "521    13707\n",
       "737    12650\n",
       "740    19500\n",
       "660    26880\n",
       "411    41294\n",
       "       ...  \n",
       "408    10855\n",
       "332     6460\n",
       "208    33077\n",
       "613     8164\n",
       "78      6502\n",
       "Name: Price, Length: 200, dtype: int64"
      ]
     },
     "execution_count": 12,
     "metadata": {},
     "output_type": "execute_result"
    }
   ],
   "source": [
    "y_test"
   ]
  },
  {
   "cell_type": "code",
   "execution_count": 13,
   "id": "b73ec914-60a0-41c6-9d61-1ba1954f7f7f",
   "metadata": {},
   "outputs": [
    {
     "name": "stdout",
     "output_type": "stream",
     "text": [
      "Precision (Macro): 0.49746192893401014\n",
      "Recall (Macro): 0.49746192893401014\n",
      "F1 Score (Macro): 0.005076142131979695\n"
     ]
    }
   ],
   "source": [
    "from sklearn.metrics import precision_score, recall_score, f1_score\n",
    "y_preds = y_pred.astype(int)\n",
    "# Set zero_division parameter to handle zero divisions\n",
    "zero_division_value = 1  # Replace zero divisions with this value\n",
    "precision = precision_score(y_test, y_preds, average='macro', zero_division=zero_division_value)\n",
    "recall = recall_score(y_test, y_preds, average='macro', zero_division=zero_division_value)\n",
    "f1 = f1_score(y_test, y_preds, average='macro', zero_division=zero_division_value)\n",
    "\n",
    "print(\"Precision (Macro):\", precision)\n",
    "print(\"Recall (Macro):\", recall)\n",
    "print(\"F1 Score (Macro):\", f1)"
   ]
  },
  {
   "cell_type": "markdown",
   "id": "0a9c720c-f2a5-4494-9b05-cd35b739586c",
   "metadata": {},
   "source": [
    "## Improving model predictions through experimentation (hyperparameter tuning)"
   ]
  },
  {
   "cell_type": "code",
   "execution_count": 14,
   "id": "8f7b131c-c10e-4444-ab64-c725fcfd827d",
   "metadata": {},
   "outputs": [],
   "source": [
    "# Creating a param_grid to use with GridSearchCv\n",
    "param_grid = {\"n_estimators\": [100,150,200, 500,1000],\n",
    "              \"max_depth\": [20,30, 40, 50,100],\n",
    "              \"max_features\": [\"log2\"],\n",
    "              \"min_samples_split\": [2, 4, 6, 8,10],\n",
    "              \"min_samples_leaf\": [4]}"
   ]
  },
  {
   "cell_type": "code",
   "execution_count": 15,
   "id": "595a4bad-22f8-42f3-935d-93954840a8ce",
   "metadata": {},
   "outputs": [],
   "source": [
    "from sklearn.model_selection import train_test_split\n",
    "from sklearn.metrics import accuracy_score, precision_score, recall_score, f1_score\n",
    "from sklearn.model_selection import cross_val_score\n",
    "\n",
    "# Setup random seed\n",
    "np.random.seed(42)\n",
    "\n",
    "# Split the data into X (features/data) and y (target/labels)\n",
    "X = car_sales.drop(\"Price\", axis=1)\n",
    "y = car_sales[\"Price\"]\n",
    "\n",
    "# Split into train and test sets\n",
    "X_train, X_test, y_train, y_test = train_test_split(X, y, test_size=0.2)"
   ]
  },
  {
   "cell_type": "code",
   "execution_count": 16,
   "id": "3b458fa7-6b2a-41ff-a9f9-c6221bbc2067",
   "metadata": {},
   "outputs": [
    {
     "data": {
      "text/plain": [
       "array([[0.00000e+00, 0.00000e+00, 0.00000e+00, ..., 1.00000e+00,\n",
       "        0.00000e+00, 1.12004e+05],\n",
       "       [0.00000e+00, 0.00000e+00, 0.00000e+00, ..., 1.00000e+00,\n",
       "        0.00000e+00, 3.56730e+04],\n",
       "       [0.00000e+00, 0.00000e+00, 0.00000e+00, ..., 1.00000e+00,\n",
       "        0.00000e+00, 1.46824e+05],\n",
       "       ...,\n",
       "       [0.00000e+00, 0.00000e+00, 1.00000e+00, ..., 1.00000e+00,\n",
       "        0.00000e+00, 6.18760e+04],\n",
       "       [0.00000e+00, 1.00000e+00, 0.00000e+00, ..., 1.00000e+00,\n",
       "        0.00000e+00, 2.86250e+04],\n",
       "       [0.00000e+00, 1.00000e+00, 0.00000e+00, ..., 1.00000e+00,\n",
       "        0.00000e+00, 1.50582e+05]])"
      ]
     },
     "execution_count": 16,
     "metadata": {},
     "output_type": "execute_result"
    }
   ],
   "source": [
    "# Now let's one hot encode the features with the same code as before \n",
    "from sklearn.preprocessing import OneHotEncoder\n",
    "from sklearn.compose import ColumnTransformer\n",
    "\n",
    "categorical_features = [\"Make\", \"Colour\", \"Doors\"]\n",
    "\n",
    "one_hot = OneHotEncoder()\n",
    "\n",
    "transformer = ColumnTransformer([(\"one_hot\", \n",
    "                                  one_hot, \n",
    "                                  categorical_features)],\n",
    "                                remainder=\"passthrough\",\n",
    "                                sparse_threshold=0) # return a sparse matrix or not\n",
    "\n",
    "# Fill train and test values separately\n",
    "transformed_X_train = transformer.fit_transform(X_train)\n",
    "transformed_X_test = transformer.transform(X_test)\n",
    "\n",
    "# Check transformed and filled X_train\n",
    "transformed_X_train"
   ]
  },
  {
   "cell_type": "code",
   "execution_count": 17,
   "id": "0dcde8e4-9e9b-4995-a41d-72fb1a9dc4da",
   "metadata": {},
   "outputs": [
    {
     "name": "stdout",
     "output_type": "stream",
     "text": [
      "GridSearchCV fitting time: 121.58498334884644 seconds\n"
     ]
    }
   ],
   "source": [
    "import time\n",
    "import numpy as np\n",
    "from sklearn.ensemble import RandomForestRegressor\n",
    "from sklearn.model_selection import GridSearchCV, train_test_split\n",
    "\n",
    "# Start the timer\n",
    "start_time = time.time()\n",
    "\n",
    "# Set random seed for reproducibility\n",
    "np.random.seed(42)\n",
    "\n",
    "# Define the regressor and set n_jobs to -1 to use all available machine cores\n",
    "clf = RandomForestRegressor(n_jobs=-1)\n",
    "\n",
    "# Setup GridSearchCV with 5-fold cross-validation\n",
    "gs_clf = GridSearchCV(estimator=clf, param_grid=param_grid, cv=5)\n",
    "\n",
    "# Fit the GridSearchCV version of clf using training data\n",
    "gs_clf.fit(transformed_X_train, y_train)\n",
    "\n",
    "# Find the running time\n",
    "end_time = time.time()\n",
    "\n",
    "# Calculate the elapsed time\n",
    "elapsed_time = end_time - start_time\n",
    "print(\"GridSearchCV fitting time:\", elapsed_time, \"seconds\")"
   ]
  },
  {
   "cell_type": "code",
   "execution_count": 18,
   "id": "d46c7347-5cc7-444f-8c02-726a2259b0d8",
   "metadata": {},
   "outputs": [
    {
     "data": {
      "text/plain": [
       "{'max_depth': 50,\n",
       " 'max_features': 'log2',\n",
       " 'min_samples_leaf': 4,\n",
       " 'min_samples_split': 10,\n",
       " 'n_estimators': 100}"
      ]
     },
     "execution_count": 18,
     "metadata": {},
     "output_type": "execute_result"
    }
   ],
   "source": [
    "gs_clf.best_params_"
   ]
  },
  {
   "cell_type": "code",
   "execution_count": 19,
   "id": "91c372dd-4d44-41d3-b65c-6c774edb67bd",
   "metadata": {},
   "outputs": [],
   "source": [
    "gs_clf.param_grid['n_estimators'] = [200]"
   ]
  },
  {
   "cell_type": "code",
   "execution_count": 20,
   "id": "a781560e-6365-4894-8359-508cffe023ec",
   "metadata": {},
   "outputs": [
    {
     "data": {
      "text/plain": [
       "0.4309971419625107"
      ]
     },
     "execution_count": 20,
     "metadata": {},
     "output_type": "execute_result"
    }
   ],
   "source": [
    "# Max predictions with the GridSearchCV classifier\n",
    "gs_clf.score(transformed_X_test, y_test)"
   ]
  },
  {
   "cell_type": "markdown",
   "id": "f5ca6842-1cb4-4ab2-b5bf-d868a211e231",
   "metadata": {},
   "source": [
    "### We have increased the accuracy from 0.29444524256551574 to 0.4310000151435375, There is still a lot of scope for improvement!"
   ]
  },
  {
   "cell_type": "markdown",
   "id": "4c8aa85d-038d-4528-aeee-08a6a93c81fa",
   "metadata": {},
   "source": [
    "## Saving our Random Forest Classifier Model so that we can use it later"
   ]
  },
  {
   "cell_type": "code",
   "execution_count": 21,
   "id": "71b63048-eae1-4d17-92c0-3e26c8c152b4",
   "metadata": {},
   "outputs": [],
   "source": [
    "import pickle\n",
    "\n",
    "# Save an existing model to file\n",
    "Ensemble_model_regression = \"Ensemble_model_regression.pkl\" # .pkl extension stands for \"pickle\"\n",
    "pickle.dump(clf, open(Ensemble_model_regression, \"wb\"))"
   ]
  },
  {
   "cell_type": "code",
   "execution_count": 22,
   "id": "733d36a3-5b80-4585-bf64-c09d093a4896",
   "metadata": {},
   "outputs": [
    {
     "data": {
      "text/html": [
       "<style>#sk-container-id-1 {color: black;}#sk-container-id-1 pre{padding: 0;}#sk-container-id-1 div.sk-toggleable {background-color: white;}#sk-container-id-1 label.sk-toggleable__label {cursor: pointer;display: block;width: 100%;margin-bottom: 0;padding: 0.3em;box-sizing: border-box;text-align: center;}#sk-container-id-1 label.sk-toggleable__label-arrow:before {content: \"▸\";float: left;margin-right: 0.25em;color: #696969;}#sk-container-id-1 label.sk-toggleable__label-arrow:hover:before {color: black;}#sk-container-id-1 div.sk-estimator:hover label.sk-toggleable__label-arrow:before {color: black;}#sk-container-id-1 div.sk-toggleable__content {max-height: 0;max-width: 0;overflow: hidden;text-align: left;background-color: #f0f8ff;}#sk-container-id-1 div.sk-toggleable__content pre {margin: 0.2em;color: black;border-radius: 0.25em;background-color: #f0f8ff;}#sk-container-id-1 input.sk-toggleable__control:checked~div.sk-toggleable__content {max-height: 200px;max-width: 100%;overflow: auto;}#sk-container-id-1 input.sk-toggleable__control:checked~label.sk-toggleable__label-arrow:before {content: \"▾\";}#sk-container-id-1 div.sk-estimator input.sk-toggleable__control:checked~label.sk-toggleable__label {background-color: #d4ebff;}#sk-container-id-1 div.sk-label input.sk-toggleable__control:checked~label.sk-toggleable__label {background-color: #d4ebff;}#sk-container-id-1 input.sk-hidden--visually {border: 0;clip: rect(1px 1px 1px 1px);clip: rect(1px, 1px, 1px, 1px);height: 1px;margin: -1px;overflow: hidden;padding: 0;position: absolute;width: 1px;}#sk-container-id-1 div.sk-estimator {font-family: monospace;background-color: #f0f8ff;border: 1px dotted black;border-radius: 0.25em;box-sizing: border-box;margin-bottom: 0.5em;}#sk-container-id-1 div.sk-estimator:hover {background-color: #d4ebff;}#sk-container-id-1 div.sk-parallel-item::after {content: \"\";width: 100%;border-bottom: 1px solid gray;flex-grow: 1;}#sk-container-id-1 div.sk-label:hover label.sk-toggleable__label {background-color: #d4ebff;}#sk-container-id-1 div.sk-serial::before {content: \"\";position: absolute;border-left: 1px solid gray;box-sizing: border-box;top: 0;bottom: 0;left: 50%;z-index: 0;}#sk-container-id-1 div.sk-serial {display: flex;flex-direction: column;align-items: center;background-color: white;padding-right: 0.2em;padding-left: 0.2em;position: relative;}#sk-container-id-1 div.sk-item {position: relative;z-index: 1;}#sk-container-id-1 div.sk-parallel {display: flex;align-items: stretch;justify-content: center;background-color: white;position: relative;}#sk-container-id-1 div.sk-item::before, #sk-container-id-1 div.sk-parallel-item::before {content: \"\";position: absolute;border-left: 1px solid gray;box-sizing: border-box;top: 0;bottom: 0;left: 50%;z-index: -1;}#sk-container-id-1 div.sk-parallel-item {display: flex;flex-direction: column;z-index: 1;position: relative;background-color: white;}#sk-container-id-1 div.sk-parallel-item:first-child::after {align-self: flex-end;width: 50%;}#sk-container-id-1 div.sk-parallel-item:last-child::after {align-self: flex-start;width: 50%;}#sk-container-id-1 div.sk-parallel-item:only-child::after {width: 0;}#sk-container-id-1 div.sk-dashed-wrapped {border: 1px dashed gray;margin: 0 0.4em 0.5em 0.4em;box-sizing: border-box;padding-bottom: 0.4em;background-color: white;}#sk-container-id-1 div.sk-label label {font-family: monospace;font-weight: bold;display: inline-block;line-height: 1.2em;}#sk-container-id-1 div.sk-label-container {text-align: center;}#sk-container-id-1 div.sk-container {/* jupyter's `normalize.less` sets `[hidden] { display: none; }` but bootstrap.min.css set `[hidden] { display: none !important; }` so we also need the `!important` here to be able to override the default hidden behavior on the sphinx rendered scikit-learn.org. See: https://github.com/scikit-learn/scikit-learn/issues/21755 */display: inline-block !important;position: relative;}#sk-container-id-1 div.sk-text-repr-fallback {display: none;}</style><div id=\"sk-container-id-1\" class=\"sk-top-container\"><div class=\"sk-text-repr-fallback\"><pre>RandomForestRegressor(n_jobs=-1)</pre><b>In a Jupyter environment, please rerun this cell to show the HTML representation or trust the notebook. <br />On GitHub, the HTML representation is unable to render, please try loading this page with nbviewer.org.</b></div><div class=\"sk-container\" hidden><div class=\"sk-item\"><div class=\"sk-estimator sk-toggleable\"><input class=\"sk-toggleable__control sk-hidden--visually\" id=\"sk-estimator-id-1\" type=\"checkbox\" checked><label for=\"sk-estimator-id-1\" class=\"sk-toggleable__label sk-toggleable__label-arrow\">RandomForestRegressor</label><div class=\"sk-toggleable__content\"><pre>RandomForestRegressor(n_jobs=-1)</pre></div></div></div></div></div>"
      ],
      "text/plain": [
       "RandomForestRegressor(n_jobs=-1)"
      ]
     },
     "execution_count": 22,
     "metadata": {},
     "output_type": "execute_result"
    }
   ],
   "source": [
    "# Load a saved model\n",
    "loaded_pickle_model = pickle.load(open(Ensemble_model_regression, \"rb\"))\n",
    "loaded_pickle_model.fit(transformed_X_train, y_train)"
   ]
  },
  {
   "cell_type": "code",
   "execution_count": 23,
   "id": "9e4b5927-e45e-4209-a8e0-d5efd28d516e",
   "metadata": {},
   "outputs": [
    {
     "name": "stdout",
     "output_type": "stream",
     "text": [
      "Precision (Macro): 0.49746192893401014\n",
      "Recall (Macro): 0.49746192893401014\n"
     ]
    }
   ],
   "source": [
    "# Make predictions and evaluate the loaded model\n",
    "pickle_y_preds = loaded_pickle_model.predict(transformed_X_test)\n",
    "# Set zero_division parameter to handle zero divisions\n",
    "zero_division_value = 1  # Replace zero divisions with this value\n",
    "precision = precision_score(y_test, y_preds, average='macro', zero_division=zero_division_value)\n",
    "recall = recall_score(y_test, y_preds, average='macro', zero_division=zero_division_value)\n",
    "f1 = f1_score(y_test, y_preds, average='macro', zero_division=zero_division_value)\n",
    "\n",
    "print(\"Precision (Macro):\", precision)\n",
    "print(\"Recall (Macro):\", recall)"
   ]
  },
  {
   "cell_type": "code",
   "execution_count": 24,
   "id": "50e0d60c-be6b-444c-9ef6-f4b32e2bd094",
   "metadata": {},
   "outputs": [
    {
     "name": "stdout",
     "output_type": "stream",
     "text": [
      "0.4236029430900353\n"
     ]
    }
   ],
   "source": [
    "from sklearn.linear_model import Lasso\n",
    "\n",
    "# Assuming transformed_X_train, transformed_X_test, y_train, y_test are defined\n",
    "\n",
    "# Initialize the Lasso regression model\n",
    "lasso_model = Lasso(alpha=1)  # You can adjust the alpha parameter as needed\n",
    "\n",
    "# Fit the Lasso model using the transformed training data\n",
    "lasso_model.fit(transformed_X_train, y_train)\n",
    "\n",
    "# Evaluate the model on the transformed test data\n",
    "r2 = lasso_model.score(transformed_X_test, y_test)\n",
    "print(r2)"
   ]
  }
 ],
 "metadata": {
  "kernelspec": {
   "display_name": "Python 3 (ipykernel)",
   "language": "python",
   "name": "python3"
  },
  "language_info": {
   "codemirror_mode": {
    "name": "ipython",
    "version": 3
   },
   "file_extension": ".py",
   "mimetype": "text/x-python",
   "name": "python",
   "nbconvert_exporter": "python",
   "pygments_lexer": "ipython3",
   "version": "3.12.2"
  }
 },
 "nbformat": 4,
 "nbformat_minor": 5
}
