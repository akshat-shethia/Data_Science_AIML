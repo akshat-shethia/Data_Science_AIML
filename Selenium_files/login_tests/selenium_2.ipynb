{
 "cells": [
  {
   "cell_type": "code",
   "execution_count": 1,
   "id": "2ed31704-3f37-4af2-a363-082fb508c9e7",
   "metadata": {},
   "outputs": [
    {
     "name": "stdout",
     "output_type": "stream",
     "text": [
      "Requirement already satisfied: pytest in c:\\miniconda\\miniconda_workspace\\selenium\\env\\lib\\site-packages (8.2.0)\n",
      "Requirement already satisfied: iniconfig in c:\\miniconda\\miniconda_workspace\\selenium\\env\\lib\\site-packages (from pytest) (2.0.0)\n",
      "Requirement already satisfied: packaging in c:\\miniconda\\miniconda_workspace\\selenium\\env\\lib\\site-packages (from pytest) (23.2)\n",
      "Requirement already satisfied: pluggy<2.0,>=1.5 in c:\\miniconda\\miniconda_workspace\\selenium\\env\\lib\\site-packages (from pytest) (1.5.0)\n",
      "Requirement already satisfied: colorama in c:\\miniconda\\miniconda_workspace\\selenium\\env\\lib\\site-packages (from pytest) (0.4.6)\n"
     ]
    }
   ],
   "source": [
    "!pip install -U pytest"
   ]
  },
  {
   "cell_type": "code",
   "execution_count": null,
   "id": "8c57d3c7-090a-43ee-a256-3ca3434369d2",
   "metadata": {},
   "outputs": [],
   "source": []
  },
  {
   "cell_type": "code",
   "execution_count": null,
   "id": "f088371b-5da1-48ed-a9d5-20ca83b5cafe",
   "metadata": {},
   "outputs": [],
   "source": []
  }
 ],
 "metadata": {
  "kernelspec": {
   "display_name": "Python 3 (ipykernel)",
   "language": "python",
   "name": "python3"
  },
  "language_info": {
   "codemirror_mode": {
    "name": "ipython",
    "version": 3
   },
   "file_extension": ".py",
   "mimetype": "text/x-python",
   "name": "python",
   "nbconvert_exporter": "python",
   "pygments_lexer": "ipython3",
   "version": "3.12.3"
  }
 },
 "nbformat": 4,
 "nbformat_minor": 5
}
