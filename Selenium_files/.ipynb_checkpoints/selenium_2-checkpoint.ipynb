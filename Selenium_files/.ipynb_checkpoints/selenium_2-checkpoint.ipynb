{
 "cells": [
  {
   "cell_type": "code",
   "execution_count": 1,
   "id": "2ed31704-3f37-4af2-a363-082fb508c9e7",
   "metadata": {},
   "outputs": [
    {
     "name": "stdout",
     "output_type": "stream",
     "text": [
      "Collecting pytest\n",
      "  Downloading pytest-8.2.0-py3-none-any.whl.metadata (7.5 kB)\n",
      "Collecting iniconfig (from pytest)\n",
      "  Downloading iniconfig-2.0.0-py3-none-any.whl.metadata (2.6 kB)\n",
      "Requirement already satisfied: packaging in c:\\users\\akshat shethia\\desktop\\udemy\\selenium webdriver selenium automation testing with python\\my_env\\env\\lib\\site-packages (from pytest) (23.2)\n",
      "Collecting pluggy<2.0,>=1.5 (from pytest)\n",
      "  Downloading pluggy-1.5.0-py3-none-any.whl.metadata (4.8 kB)\n",
      "Requirement already satisfied: colorama in c:\\users\\akshat shethia\\desktop\\udemy\\selenium webdriver selenium automation testing with python\\my_env\\env\\lib\\site-packages (from pytest) (0.4.6)\n",
      "Downloading pytest-8.2.0-py3-none-any.whl (339 kB)\n",
      "   ---------------------------------------- 0.0/339.2 kB ? eta -:--:--\n",
      "   - -------------------------------------- 10.2/339.2 kB ? eta -:--:--\n",
      "   ------- -------------------------------- 61.4/339.2 kB 1.1 MB/s eta 0:00:01\n",
      "   ------------------- -------------------- 163.8/339.2 kB 1.6 MB/s eta 0:00:01\n",
      "   ---------------------------------------- 339.2/339.2 kB 2.3 MB/s eta 0:00:00\n",
      "Downloading pluggy-1.5.0-py3-none-any.whl (20 kB)\n",
      "Downloading iniconfig-2.0.0-py3-none-any.whl (5.9 kB)\n",
      "Installing collected packages: pluggy, iniconfig, pytest\n",
      "Successfully installed iniconfig-2.0.0 pluggy-1.5.0 pytest-8.2.0\n"
     ]
    }
   ],
   "source": [
    "!pip install -U pytest"
   ]
  },
  {
   "cell_type": "code",
   "execution_count": null,
   "id": "8c57d3c7-090a-43ee-a256-3ca3434369d2",
   "metadata": {},
   "outputs": [],
   "source": []
  },
  {
   "cell_type": "code",
   "execution_count": null,
   "id": "f088371b-5da1-48ed-a9d5-20ca83b5cafe",
   "metadata": {},
   "outputs": [],
   "source": []
  }
 ],
 "metadata": {
  "kernelspec": {
   "display_name": "Python 3 (ipykernel)",
   "language": "python",
   "name": "python3"
  },
  "language_info": {
   "codemirror_mode": {
    "name": "ipython",
    "version": 3
   },
   "file_extension": ".py",
   "mimetype": "text/x-python",
   "name": "python",
   "nbconvert_exporter": "python",
   "pygments_lexer": "ipython3",
   "version": "3.12.3"
  }
 },
 "nbformat": 4,
 "nbformat_minor": 5
}
