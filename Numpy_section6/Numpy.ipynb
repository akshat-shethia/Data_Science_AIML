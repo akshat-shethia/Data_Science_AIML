{
 "cells": [
  {
   "cell_type": "code",
   "execution_count": 1,
   "id": "1c0be614-29bf-4fda-a069-e667f3c52671",
   "metadata": {},
   "outputs": [],
   "source": [
    "import numpy as np"
   ]
  },
  {
   "cell_type": "markdown",
   "id": "56a9d21f-58e2-4999-a4e9-33695ad6b850",
   "metadata": {},
   "source": [
    "## DATATYPES AND ATTRIBUTES\n"
   ]
  },
  {
   "cell_type": "code",
   "execution_count": 2,
   "id": "d09d2575-9dec-4eef-84a5-b6e4dc433c2e",
   "metadata": {},
   "outputs": [
    {
     "data": {
      "text/plain": [
       "array([1, 2, 3])"
      ]
     },
     "execution_count": 2,
     "metadata": {},
     "output_type": "execute_result"
    }
   ],
   "source": [
    "#Numpy's main dataType is ndarray\n",
    "array1 = np.array([1,2,3])\n",
    "array1"
   ]
  },
  {
   "cell_type": "code",
   "execution_count": 3,
   "id": "aedad875-7a4e-4aaf-8ee3-df1f41ee0c7b",
   "metadata": {},
   "outputs": [
    {
     "data": {
      "text/plain": [
       "array([[1.1, 2. , 3. ],\n",
       "       [4. , 5. , 6. ],\n",
       "       [7. , 8. , 9. ]])"
      ]
     },
     "execution_count": 3,
     "metadata": {},
     "output_type": "execute_result"
    }
   ],
   "source": [
    "array2 = np.array([[1.1,2,3],\n",
    "                 [4,5,6],\n",
    "                 [7,8,9]])\n",
    "array2"
   ]
  },
  {
   "cell_type": "code",
   "execution_count": 4,
   "id": "89bd0575-2e4f-4e93-bf0a-af35330a204a",
   "metadata": {},
   "outputs": [
    {
     "data": {
      "text/plain": [
       "array([[[1, 2, 3],\n",
       "        [4, 5, 6],\n",
       "        [7, 8, 9]],\n",
       "\n",
       "       [[1, 2, 3],\n",
       "        [4, 5, 6],\n",
       "        [7, 8, 9]]])"
      ]
     },
     "execution_count": 4,
     "metadata": {},
     "output_type": "execute_result"
    }
   ],
   "source": [
    "array3 = np.array([[[1,2,3],\n",
    "                    [4,5,6],\n",
    "                    [7,8,9]],\n",
    "                   [[1,2,3],\n",
    "                    [4,5,6],\n",
    "                    [7,8,9]]])\n",
    "array3"
   ]
  },
  {
   "cell_type": "code",
   "execution_count": 5,
   "id": "2e8bc866-8509-4033-987b-5ec4e94e992e",
   "metadata": {},
   "outputs": [
    {
     "data": {
      "text/plain": [
       "numpy.ndarray"
      ]
     },
     "execution_count": 5,
     "metadata": {},
     "output_type": "execute_result"
    }
   ],
   "source": [
    "type(array1)"
   ]
  },
  {
   "cell_type": "code",
   "execution_count": 6,
   "id": "eed904ed-a223-4f3a-b355-76001e7c75ad",
   "metadata": {},
   "outputs": [
    {
     "data": {
      "text/plain": [
       "(1, 2, 3)"
      ]
     },
     "execution_count": 6,
     "metadata": {},
     "output_type": "execute_result"
    }
   ],
   "source": [
    "array1.ndim,array2.ndim,array3.ndim"
   ]
  },
  {
   "cell_type": "code",
   "execution_count": 7,
   "id": "03f784e6-cb87-4327-8ede-7d6e4b34a094",
   "metadata": {},
   "outputs": [
    {
     "data": {
      "text/plain": [
       "(3, 9, 18)"
      ]
     },
     "execution_count": 7,
     "metadata": {},
     "output_type": "execute_result"
    }
   ],
   "source": [
    "array1.size,array2.size,array3.size"
   ]
  },
  {
   "cell_type": "code",
   "execution_count": 8,
   "id": "f8286215-1fe9-478c-8ab9-706f3ecbab07",
   "metadata": {},
   "outputs": [
    {
     "data": {
      "text/plain": [
       "(dtype('int32'), dtype('float64'), dtype('int32'))"
      ]
     },
     "execution_count": 8,
     "metadata": {},
     "output_type": "execute_result"
    }
   ],
   "source": [
    "array1.dtype,array2.dtype,array3.dtype"
   ]
  },
  {
   "cell_type": "code",
   "execution_count": 9,
   "id": "d007e689-4950-452c-8165-bce075344aef",
   "metadata": {},
   "outputs": [
    {
     "data": {
      "text/plain": [
       "(numpy.ndarray, numpy.ndarray, numpy.ndarray)"
      ]
     },
     "execution_count": 9,
     "metadata": {},
     "output_type": "execute_result"
    }
   ],
   "source": [
    "type(array1),type(array2),type(array3)"
   ]
  },
  {
   "cell_type": "markdown",
   "id": "0e14e4c7-360f-4a6a-b17b-0565df05e4b8",
   "metadata": {},
   "source": [
    "## Create A Dataframe from NumPy array"
   ]
  },
  {
   "cell_type": "code",
   "execution_count": 10,
   "id": "7ea0713a-3d57-4de4-b423-76cd37669f56",
   "metadata": {},
   "outputs": [
    {
     "data": {
      "text/html": [
       "<div>\n",
       "<style scoped>\n",
       "    .dataframe tbody tr th:only-of-type {\n",
       "        vertical-align: middle;\n",
       "    }\n",
       "\n",
       "    .dataframe tbody tr th {\n",
       "        vertical-align: top;\n",
       "    }\n",
       "\n",
       "    .dataframe thead th {\n",
       "        text-align: right;\n",
       "    }\n",
       "</style>\n",
       "<table border=\"1\" class=\"dataframe\">\n",
       "  <thead>\n",
       "    <tr style=\"text-align: right;\">\n",
       "      <th></th>\n",
       "      <th>0</th>\n",
       "      <th>1</th>\n",
       "      <th>2</th>\n",
       "    </tr>\n",
       "  </thead>\n",
       "  <tbody>\n",
       "    <tr>\n",
       "      <th>0</th>\n",
       "      <td>1.1</td>\n",
       "      <td>2.0</td>\n",
       "      <td>3.0</td>\n",
       "    </tr>\n",
       "    <tr>\n",
       "      <th>1</th>\n",
       "      <td>4.0</td>\n",
       "      <td>5.0</td>\n",
       "      <td>6.0</td>\n",
       "    </tr>\n",
       "    <tr>\n",
       "      <th>2</th>\n",
       "      <td>7.0</td>\n",
       "      <td>8.0</td>\n",
       "      <td>9.0</td>\n",
       "    </tr>\n",
       "  </tbody>\n",
       "</table>\n",
       "</div>"
      ],
      "text/plain": [
       "     0    1    2\n",
       "0  1.1  2.0  3.0\n",
       "1  4.0  5.0  6.0\n",
       "2  7.0  8.0  9.0"
      ]
     },
     "execution_count": 10,
     "metadata": {},
     "output_type": "execute_result"
    }
   ],
   "source": [
    "import pandas as pd\n",
    "df = pd.DataFrame(array2)\n",
    "df"
   ]
  },
  {
   "cell_type": "markdown",
   "id": "968999bc-6687-420f-ab3a-d92a1797e0c6",
   "metadata": {},
   "source": [
    "## Creating Arrays"
   ]
  },
  {
   "cell_type": "code",
   "execution_count": 11,
   "id": "394e98bf-b8e4-40de-9621-02a8d614673a",
   "metadata": {},
   "outputs": [
    {
     "data": {
      "text/plain": [
       "array([1, 2, 3])"
      ]
     },
     "execution_count": 11,
     "metadata": {},
     "output_type": "execute_result"
    }
   ],
   "source": [
    "sample_array = np.array([1,2,3])\n",
    "sample_array"
   ]
  },
  {
   "cell_type": "code",
   "execution_count": 12,
   "id": "7e951358-2687-4943-9427-e65ae17ecf85",
   "metadata": {},
   "outputs": [
    {
     "data": {
      "text/plain": [
       "dtype('int32')"
      ]
     },
     "execution_count": 12,
     "metadata": {},
     "output_type": "execute_result"
    }
   ],
   "source": [
    "sample_array.dtype"
   ]
  },
  {
   "cell_type": "code",
   "execution_count": 13,
   "id": "bf40f955-d703-4d53-a04a-edcd8929ce42",
   "metadata": {},
   "outputs": [
    {
     "data": {
      "text/plain": [
       "array([[1., 1., 1.],\n",
       "       [1., 1., 1.]])"
      ]
     },
     "execution_count": 13,
     "metadata": {},
     "output_type": "execute_result"
    }
   ],
   "source": [
    "ones = np.ones((2,3))\n",
    "ones"
   ]
  },
  {
   "cell_type": "code",
   "execution_count": 14,
   "id": "184a77fe-f92d-442a-81a5-ff5589104d8c",
   "metadata": {},
   "outputs": [
    {
     "data": {
      "text/plain": [
       "numpy.ndarray"
      ]
     },
     "execution_count": 14,
     "metadata": {},
     "output_type": "execute_result"
    }
   ],
   "source": [
    "ones.dtype\n",
    "type(ones)"
   ]
  },
  {
   "cell_type": "code",
   "execution_count": 15,
   "id": "081a573b-c3c3-4ddf-8733-119185ab0ddb",
   "metadata": {},
   "outputs": [
    {
     "data": {
      "text/plain": [
       "array([[0., 0., 0.],\n",
       "       [0., 0., 0.]])"
      ]
     },
     "execution_count": 15,
     "metadata": {},
     "output_type": "execute_result"
    }
   ],
   "source": [
    "zeros = np.zeros((2,3))\n",
    "zeros"
   ]
  },
  {
   "cell_type": "code",
   "execution_count": 16,
   "id": "e5fe4852-67f6-4ca4-ae11-71ad98a76654",
   "metadata": {},
   "outputs": [
    {
     "data": {
      "text/plain": [
       "array([0, 2, 4, 6, 8])"
      ]
     },
     "execution_count": 16,
     "metadata": {},
     "output_type": "execute_result"
    }
   ],
   "source": [
    "range_array = np.arange(0,10,2) # Start, Stop, Step\n",
    "range_array"
   ]
  },
  {
   "cell_type": "code",
   "execution_count": 17,
   "id": "6337a66c-b477-46e4-8c53-2e58412bdde6",
   "metadata": {},
   "outputs": [
    {
     "data": {
      "text/plain": [
       "array([[3, 8, 7],\n",
       "       [5, 7, 6],\n",
       "       [4, 4, 6]])"
      ]
     },
     "execution_count": 17,
     "metadata": {},
     "output_type": "execute_result"
    }
   ],
   "source": [
    "random_array = np.random.randint(0,10,size = (3,3))\n",
    "random_array"
   ]
  },
  {
   "cell_type": "code",
   "execution_count": 18,
   "id": "92f8ba91-5fb7-4732-9647-71dd87ffc510",
   "metadata": {},
   "outputs": [
    {
     "data": {
      "text/plain": [
       "9"
      ]
     },
     "execution_count": 18,
     "metadata": {},
     "output_type": "execute_result"
    }
   ],
   "source": [
    "random_array.size"
   ]
  },
  {
   "cell_type": "code",
   "execution_count": 19,
   "id": "10c50e48-2e3e-4c06-b4ec-4227c7c3630d",
   "metadata": {},
   "outputs": [
    {
     "data": {
      "text/plain": [
       "(3, 3)"
      ]
     },
     "execution_count": 19,
     "metadata": {},
     "output_type": "execute_result"
    }
   ],
   "source": [
    "random_array.shape"
   ]
  },
  {
   "cell_type": "code",
   "execution_count": 20,
   "id": "e5894788-aef8-40b1-8b74-8c02f0314454",
   "metadata": {},
   "outputs": [
    {
     "data": {
      "text/plain": [
       "array([[0.72883828, 0.79512623, 0.8545758 ],\n",
       "       [0.85941933, 0.9682913 , 0.6142506 ],\n",
       "       [0.22818085, 0.31274764, 0.24931221],\n",
       "       [0.82068588, 0.08119963, 0.84170465],\n",
       "       [0.90118844, 0.87223816, 0.62823443]])"
      ]
     },
     "execution_count": 20,
     "metadata": {},
     "output_type": "execute_result"
    }
   ],
   "source": [
    "random_array_float = np.random.random((5,3)) #Extra brackets to indicate the shape to be formed\n",
    "random_array_float"
   ]
  },
  {
   "cell_type": "code",
   "execution_count": 21,
   "id": "8ac9eaed-f2e6-4bd0-b6da-a13de0d00ded",
   "metadata": {},
   "outputs": [
    {
     "data": {
      "text/plain": [
       "array([[0.16111448, 0.11750483, 0.89237222],\n",
       "       [0.87926532, 0.51756748, 0.71270822],\n",
       "       [0.39403281, 0.39396765, 0.16746742],\n",
       "       [0.54934118, 0.41978649, 0.0751429 ],\n",
       "       [0.15597668, 0.70887491, 0.38713218]])"
      ]
     },
     "execution_count": 21,
     "metadata": {},
     "output_type": "execute_result"
    }
   ],
   "source": [
    "random_array_float2 = np.random.rand(5,3) #Only rows and columns are to be mentioned\n",
    "random_array_float2"
   ]
  },
  {
   "cell_type": "markdown",
   "id": "f135a329-9d4a-4bb0-b10c-fcf27d27b9c8",
   "metadata": {},
   "source": [
    "## Creating Non Random-Random Numbers using `np.random.seed()`"
   ]
  },
  {
   "cell_type": "markdown",
   "id": "96a1a027-db36-4bcc-8486-bc5a814195a0",
   "metadata": {},
   "source": [
    "## All the previosuly generated arrays contain **pseudo random numbers** ( this can be verified using the `np.random.seed()` function"
   ]
  },
  {
   "cell_type": "markdown",
   "id": "040fe764-6698-4d5f-8c0b-d9cc58aec398",
   "metadata": {},
   "source": [
    "We use the `np.random.seed(seed = 0)` function when we **dont** want our random values generated to change ever again"
   ]
  },
  {
   "cell_type": "code",
   "execution_count": 22,
   "id": "ee442e2c-9d1c-4743-ab5a-6125e9945ecf",
   "metadata": {},
   "outputs": [
    {
     "data": {
      "text/plain": [
       "array([[5, 0, 3],\n",
       "       [3, 7, 9],\n",
       "       [3, 5, 2],\n",
       "       [4, 7, 6],\n",
       "       [8, 8, 1]])"
      ]
     },
     "execution_count": 22,
     "metadata": {},
     "output_type": "execute_result"
    }
   ],
   "source": [
    "np.random.seed(0) # Now these values will never change\n",
    "random_array_seed = np.random.randint(10,size = (5,3))\n",
    "random_array_seed"
   ]
  },
  {
   "cell_type": "markdown",
   "id": "172d8f0c-9840-4990-bdd8-c077e9b6d23c",
   "metadata": {},
   "source": [
    "## Different ways of viewing arrays and matrices"
   ]
  },
  {
   "cell_type": "code",
   "execution_count": 23,
   "id": "adeb7bfb-ad8c-46e6-ba05-fe320b1bf21c",
   "metadata": {},
   "outputs": [
    {
     "data": {
      "text/plain": [
       "array([0, 1, 2, 3, 4, 5, 6, 7, 8, 9])"
      ]
     },
     "execution_count": 23,
     "metadata": {},
     "output_type": "execute_result"
    }
   ],
   "source": [
    "np.unique(random_array_seed)"
   ]
  },
  {
   "cell_type": "code",
   "execution_count": 24,
   "id": "94a687ee-0c5a-4167-b076-2b3e763df662",
   "metadata": {},
   "outputs": [
    {
     "data": {
      "text/plain": [
       "1"
      ]
     },
     "execution_count": 24,
     "metadata": {},
     "output_type": "execute_result"
    }
   ],
   "source": [
    "array1[0]"
   ]
  },
  {
   "cell_type": "code",
   "execution_count": 25,
   "id": "e7ddeabb-4b97-44e6-80dc-caac9ac03eaf",
   "metadata": {},
   "outputs": [
    {
     "data": {
      "text/plain": [
       "array([1.1, 2. , 3. ])"
      ]
     },
     "execution_count": 25,
     "metadata": {},
     "output_type": "execute_result"
    }
   ],
   "source": [
    "array2[0]"
   ]
  },
  {
   "cell_type": "code",
   "execution_count": 26,
   "id": "64a96c4a-fcfb-49fb-89db-4ffa694c3242",
   "metadata": {},
   "outputs": [
    {
     "data": {
      "text/plain": [
       "array([[1, 2, 3],\n",
       "       [4, 5, 6],\n",
       "       [7, 8, 9]])"
      ]
     },
     "execution_count": 26,
     "metadata": {},
     "output_type": "execute_result"
    }
   ],
   "source": [
    "array3[0]"
   ]
  },
  {
   "cell_type": "code",
   "execution_count": 27,
   "id": "66ce2efe-429b-4c11-96c4-a35eb01fb69b",
   "metadata": {},
   "outputs": [
    {
     "data": {
      "text/plain": [
       "array([[[1, 2],\n",
       "        [4, 5]],\n",
       "\n",
       "       [[1, 2],\n",
       "        [4, 5]]])"
      ]
     },
     "execution_count": 27,
     "metadata": {},
     "output_type": "execute_result"
    }
   ],
   "source": [
    "array3[:2,:2,:2]"
   ]
  },
  {
   "cell_type": "code",
   "execution_count": 28,
   "id": "0da6a8e1-be3b-4cd6-8c2a-8505b023e914",
   "metadata": {},
   "outputs": [
    {
     "data": {
      "text/plain": [
       "array([[[[38, 39, 23, 46, 24],\n",
       "         [17, 37, 25, 13,  8],\n",
       "         [ 9, 20, 16,  5, 15],\n",
       "         [47,  0, 18, 35, 24]],\n",
       "\n",
       "        [[49, 29, 19, 19, 14],\n",
       "         [39, 32,  1,  9, 32],\n",
       "         [31, 10, 23, 35, 11],\n",
       "         [28, 34,  0,  0, 36]],\n",
       "\n",
       "        [[ 5, 38, 40, 17, 15],\n",
       "         [ 4, 41, 42, 31,  1],\n",
       "         [ 1, 39, 41, 35, 38],\n",
       "         [11, 46, 18, 27,  0]]],\n",
       "\n",
       "\n",
       "       [[[14, 35, 12, 42, 20],\n",
       "         [11,  4,  6,  4, 47],\n",
       "         [ 3, 12, 36, 40, 14],\n",
       "         [15, 20, 35, 23, 15]],\n",
       "\n",
       "        [[13, 21, 48, 49,  5],\n",
       "         [41, 35,  0, 31,  5],\n",
       "         [30,  0, 49, 36, 34],\n",
       "         [48, 29,  3, 34, 42]],\n",
       "\n",
       "        [[13, 48, 39, 21,  9],\n",
       "         [ 0, 10, 43, 23,  2],\n",
       "         [34, 35, 30,  3, 18],\n",
       "         [46, 35, 20, 17, 27]]]])"
      ]
     },
     "execution_count": 28,
     "metadata": {},
     "output_type": "execute_result"
    }
   ],
   "source": [
    "rand_array = np.random.randint(0,50,size = (2,3,4,5))\n",
    "rand_array"
   ]
  },
  {
   "cell_type": "code",
   "execution_count": 29,
   "id": "83e27721-6655-49e0-9a02-1fcd51364686",
   "metadata": {},
   "outputs": [
    {
     "data": {
      "text/plain": [
       "((2, 3, 4, 5), 4)"
      ]
     },
     "execution_count": 29,
     "metadata": {},
     "output_type": "execute_result"
    }
   ],
   "source": [
    "rand_array.shape, rand_array.ndim"
   ]
  },
  {
   "cell_type": "code",
   "execution_count": 30,
   "id": "da18f257-3b82-4fef-9661-8a4a1ca8f409",
   "metadata": {},
   "outputs": [
    {
     "data": {
      "text/plain": [
       "array([[[[38],\n",
       "         [17],\n",
       "         [ 9],\n",
       "         [47]],\n",
       "\n",
       "        [[49],\n",
       "         [39],\n",
       "         [31],\n",
       "         [28]],\n",
       "\n",
       "        [[ 5],\n",
       "         [ 4],\n",
       "         [ 1],\n",
       "         [11]]],\n",
       "\n",
       "\n",
       "       [[[14],\n",
       "         [11],\n",
       "         [ 3],\n",
       "         [15]],\n",
       "\n",
       "        [[13],\n",
       "         [41],\n",
       "         [30],\n",
       "         [48]],\n",
       "\n",
       "        [[13],\n",
       "         [ 0],\n",
       "         [34],\n",
       "         [46]]]])"
      ]
     },
     "execution_count": 30,
     "metadata": {},
     "output_type": "execute_result"
    }
   ],
   "source": [
    "#To get the first number of the inner most array\n",
    "rand_array[:,:,:,:1]"
   ]
  },
  {
   "cell_type": "markdown",
   "id": "f9a44cb9-9858-457d-9dce-fb1c11c27ff5",
   "metadata": {},
   "source": [
    "## Manipulating Arrays and Comparing Arrays"
   ]
  },
  {
   "cell_type": "markdown",
   "id": "36956fd1-0caf-49c8-a818-e34485af026a",
   "metadata": {},
   "source": [
    "### Arithmetic"
   ]
  },
  {
   "cell_type": "code",
   "execution_count": 31,
   "id": "de846d4b-8170-4b73-bde6-b8fae65fbfd7",
   "metadata": {},
   "outputs": [
    {
     "data": {
      "text/plain": [
       "array([1., 1., 1.])"
      ]
     },
     "execution_count": 31,
     "metadata": {},
     "output_type": "execute_result"
    }
   ],
   "source": [
    "ones = np.ones(3)\n",
    "ones"
   ]
  },
  {
   "cell_type": "code",
   "execution_count": 32,
   "id": "48598b76-f112-49c3-88fb-17bf78bf5b23",
   "metadata": {},
   "outputs": [
    {
     "data": {
      "text/plain": [
       "array([1, 2, 3])"
      ]
     },
     "execution_count": 32,
     "metadata": {},
     "output_type": "execute_result"
    }
   ],
   "source": [
    "array1"
   ]
  },
  {
   "cell_type": "code",
   "execution_count": 33,
   "id": "2bd23752-3bd9-4547-928c-928eee1e5fff",
   "metadata": {},
   "outputs": [
    {
     "data": {
      "text/plain": [
       "array([[1.1, 2. , 3. ],\n",
       "       [4. , 5. , 6. ],\n",
       "       [7. , 8. , 9. ]])"
      ]
     },
     "execution_count": 33,
     "metadata": {},
     "output_type": "execute_result"
    }
   ],
   "source": [
    "array2"
   ]
  },
  {
   "cell_type": "code",
   "execution_count": 34,
   "id": "caa6eacc-67da-49a3-a7e5-1a86d15edea8",
   "metadata": {},
   "outputs": [
    {
     "data": {
      "text/plain": [
       "array([[ 1.1,  4. ,  9. ],\n",
       "       [ 4. , 10. , 18. ],\n",
       "       [ 7. , 16. , 27. ]])"
      ]
     },
     "execution_count": 34,
     "metadata": {},
     "output_type": "execute_result"
    }
   ],
   "source": [
    "array2 * array1"
   ]
  },
  {
   "cell_type": "code",
   "execution_count": 35,
   "id": "bb630876-ad37-41e1-8d9e-bfb4ecfacee7",
   "metadata": {},
   "outputs": [
    {
     "data": {
      "text/plain": [
       "array([2., 3., 4.])"
      ]
     },
     "execution_count": 35,
     "metadata": {},
     "output_type": "execute_result"
    }
   ],
   "source": [
    "array1 + ones"
   ]
  },
  {
   "cell_type": "code",
   "execution_count": 36,
   "id": "633d4f56-c1b3-43f0-b9a9-afa2291a7c9a",
   "metadata": {},
   "outputs": [
    {
     "data": {
      "text/plain": [
       "array([0., 1., 2.])"
      ]
     },
     "execution_count": 36,
     "metadata": {},
     "output_type": "execute_result"
    }
   ],
   "source": [
    "array1 - ones"
   ]
  },
  {
   "cell_type": "code",
   "execution_count": 37,
   "id": "0c00ca6a-39e6-4377-ab97-63ff01911f02",
   "metadata": {},
   "outputs": [
    {
     "data": {
      "text/plain": [
       "array([1., 2., 3.])"
      ]
     },
     "execution_count": 37,
     "metadata": {},
     "output_type": "execute_result"
    }
   ],
   "source": [
    "array1 * ones"
   ]
  },
  {
   "cell_type": "code",
   "execution_count": 38,
   "id": "8ad97484-e6b1-4721-a02f-05e3ddedd350",
   "metadata": {},
   "outputs": [
    {
     "data": {
      "text/plain": [
       "array([[[1, 2, 3],\n",
       "        [4, 5, 6],\n",
       "        [7, 8, 9]],\n",
       "\n",
       "       [[1, 2, 3],\n",
       "        [4, 5, 6],\n",
       "        [7, 8, 9]]])"
      ]
     },
     "execution_count": 38,
     "metadata": {},
     "output_type": "execute_result"
    }
   ],
   "source": [
    "array3"
   ]
  },
  {
   "cell_type": "code",
   "execution_count": 39,
   "id": "9d1c6c1d-100a-4695-a989-e03cc47f17bb",
   "metadata": {},
   "outputs": [
    {
     "data": {
      "text/plain": [
       "array([[[ 1.1,  4. ,  9. ],\n",
       "        [16. , 25. , 36. ],\n",
       "        [49. , 64. , 81. ]],\n",
       "\n",
       "       [[ 1.1,  4. ,  9. ],\n",
       "        [16. , 25. , 36. ],\n",
       "        [49. , 64. , 81. ]]])"
      ]
     },
     "execution_count": 39,
     "metadata": {},
     "output_type": "execute_result"
    }
   ],
   "source": [
    "array3 * array2"
   ]
  },
  {
   "cell_type": "code",
   "execution_count": 40,
   "id": "5c90e37f-b5e1-4487-a1ad-4d391a8a5e7b",
   "metadata": {},
   "outputs": [
    {
     "data": {
      "text/plain": [
       "array([1., 2., 3.])"
      ]
     },
     "execution_count": 40,
     "metadata": {},
     "output_type": "execute_result"
    }
   ],
   "source": [
    "array1/1"
   ]
  },
  {
   "cell_type": "code",
   "execution_count": 41,
   "id": "174efee9-8e0b-499a-bf8a-426f57867697",
   "metadata": {},
   "outputs": [
    {
     "data": {
      "text/plain": [
       "array([[1.1, 1. , 1. ],\n",
       "       [4. , 2.5, 2. ],\n",
       "       [7. , 4. , 3. ]])"
      ]
     },
     "execution_count": 41,
     "metadata": {},
     "output_type": "execute_result"
    }
   ],
   "source": [
    "array2/array1"
   ]
  },
  {
   "cell_type": "code",
   "execution_count": 42,
   "id": "e7859a27-c22d-42c4-b123-8722cfa837ff",
   "metadata": {},
   "outputs": [
    {
     "data": {
      "text/plain": [
       "array([[1., 1., 1.],\n",
       "       [4., 2., 2.],\n",
       "       [7., 4., 3.]])"
      ]
     },
     "execution_count": 42,
     "metadata": {},
     "output_type": "execute_result"
    }
   ],
   "source": [
    "array2//array1"
   ]
  },
  {
   "cell_type": "code",
   "execution_count": 43,
   "id": "da7d2e97-a0c1-4cc2-aca1-e6cef5058a01",
   "metadata": {},
   "outputs": [
    {
     "data": {
      "text/plain": [
       "array([ 2.71828183,  7.3890561 , 20.08553692])"
      ]
     },
     "execution_count": 43,
     "metadata": {},
     "output_type": "execute_result"
    }
   ],
   "source": [
    "np.exp(array1)"
   ]
  },
  {
   "cell_type": "code",
   "execution_count": 44,
   "id": "6504314c-338c-4f54-a3da-37b365d77db8",
   "metadata": {},
   "outputs": [
    {
     "data": {
      "text/plain": [
       "array([0.        , 0.69314718, 1.09861229])"
      ]
     },
     "execution_count": 44,
     "metadata": {},
     "output_type": "execute_result"
    }
   ],
   "source": [
    "np.log(array1)"
   ]
  },
  {
   "cell_type": "markdown",
   "id": "cf727a9a-b050-4618-a5be-34705a0bee33",
   "metadata": {},
   "source": [
    "## Manipulating Arrays 2"
   ]
  },
  {
   "cell_type": "markdown",
   "id": "7ae46d95-a37f-412a-ab2d-daaf1a384604",
   "metadata": {},
   "source": [
    "## Aggregation\n",
    "Aggregation -> Performing the same operation on a number of things"
   ]
  },
  {
   "cell_type": "code",
   "execution_count": 45,
   "id": "a86defce-34f6-4a81-a101-2deab24d2b41",
   "metadata": {},
   "outputs": [
    {
     "data": {
      "text/plain": [
       "array([1, 2, 3])"
      ]
     },
     "execution_count": 45,
     "metadata": {},
     "output_type": "execute_result"
    }
   ],
   "source": [
    "ex_list = np.array([1,2,3])\n",
    "ex_list"
   ]
  },
  {
   "cell_type": "code",
   "execution_count": 46,
   "id": "c59d8555-8f67-46ca-94da-5b5cfd1430a1",
   "metadata": {},
   "outputs": [
    {
     "data": {
      "text/plain": [
       "6"
      ]
     },
     "execution_count": 46,
     "metadata": {},
     "output_type": "execute_result"
    }
   ],
   "source": [
    "np.sum(ex_list)"
   ]
  },
  {
   "cell_type": "markdown",
   "id": "37dc8321-757a-4527-a065-cf9045214288",
   "metadata": {},
   "source": [
    "### When to use Numpy Methods and when to use Python Methods\n",
    "Use **NumPy** methods on *Numpy Datatypes* <br>\n",
    "Use **Python** methods on *Python Datatypes*"
   ]
  },
  {
   "cell_type": "code",
   "execution_count": 47,
   "id": "ae2df5e2-b7f6-4eb8-b0f2-4287339b817c",
   "metadata": {},
   "outputs": [
    {
     "data": {
      "text/plain": [
       "100000"
      ]
     },
     "execution_count": 47,
     "metadata": {},
     "output_type": "execute_result"
    }
   ],
   "source": [
    "massive_array = np.random.random(100000)\n",
    "massive_array.size"
   ]
  },
  {
   "cell_type": "markdown",
   "id": "feff1d14-aecb-472f-81e5-0597ad666524",
   "metadata": {},
   "source": [
    "### `%timeit` is a magic function that counts the time it takes to run a function"
   ]
  },
  {
   "cell_type": "code",
   "execution_count": 48,
   "id": "99b343b4-eb22-48b5-a4eb-da8c3048c8c4",
   "metadata": {},
   "outputs": [
    {
     "name": "stdout",
     "output_type": "stream",
     "text": [
      "4.73 ms ± 18.1 µs per loop (mean ± std. dev. of 7 runs, 100 loops each)\n",
      "24.7 µs ± 595 ns per loop (mean ± std. dev. of 7 runs, 10,000 loops each)\n"
     ]
    }
   ],
   "source": [
    "# First Lets see the time that it takes to run a python function on a NumPy Array\n",
    "%timeit sum(massive_array)\n",
    "# Now Lets see the time that it takes to run a NumPy function on a NumPy Array\n",
    "%timeit np.sum(massive_array)"
   ]
  },
  {
   "cell_type": "code",
   "execution_count": 50,
   "id": "a926eb7b-5e5d-4772-b985-8c5f57ad72e4",
   "metadata": {},
   "outputs": [
    {
     "data": {
      "text/plain": [
       "(1, 0.816496580927726, 0.816496580927726, 0.6666666666666666)"
      ]
     },
     "execution_count": 50,
     "metadata": {},
     "output_type": "execute_result"
    }
   ],
   "source": [
    "np.min(array1), np.std(array1), np.sqrt(np.var(array1)), np.var(array1)"
   ]
  },
  {
   "cell_type": "markdown",
   "id": "56ba74f5-63c6-4933-b0d0-583783f17a8b",
   "metadata": {},
   "source": [
    "## Demo of Var And Std Dev"
   ]
  },
  {
   "cell_type": "code",
   "execution_count": 53,
   "id": "aad7f3e5-c55d-43e7-b1e6-d41fc6147f5f",
   "metadata": {},
   "outputs": [
    {
     "data": {
      "text/plain": [
       "(33452346724.559998, 8.0)"
      ]
     },
     "execution_count": 53,
     "metadata": {},
     "output_type": "execute_result"
    }
   ],
   "source": [
    "array_uno = np.array([1,100,2342,234254,456647]) # Higher variance refers to a more widespread dataset\n",
    "array_dos = np.array([2,4,6,8,10]) # lower variance refers to a narrower dataset \n",
    "np.var(array_uno) , np.var(array_dos)"
   ]
  },
  {
   "cell_type": "code",
   "execution_count": 56,
   "id": "037fa49a-61cb-427c-8051-df6b225a8963",
   "metadata": {},
   "outputs": [
    {
     "data": {
      "text/plain": [
       "(182899.82702167874, 2.8284271247461903)"
      ]
     },
     "execution_count": 56,
     "metadata": {},
     "output_type": "execute_result"
    }
   ],
   "source": [
    "np.std(array_uno) , np.std(array_dos) # Measure of -> on average how far a number is away from the mean "
   ]
  },
  {
   "cell_type": "code",
   "execution_count": 57,
   "id": "e6b6a484-1b10-4b14-9cd2-f9b20ade70d7",
   "metadata": {},
   "outputs": [
    {
     "data": {
      "text/plain": [
       "(138668.8, 6.0)"
      ]
     },
     "execution_count": 57,
     "metadata": {},
     "output_type": "execute_result"
    }
   ],
   "source": [
    "np.mean(array_uno) , np.mean(array_dos)"
   ]
  },
  {
   "cell_type": "code",
   "execution_count": null,
   "id": "f99b4495-5a73-4a6f-a03b-fdad20699ebe",
   "metadata": {},
   "outputs": [],
   "source": []
  }
 ],
 "metadata": {
  "kernelspec": {
   "display_name": "Python 3 (ipykernel)",
   "language": "python",
   "name": "python3"
  },
  "language_info": {
   "codemirror_mode": {
    "name": "ipython",
    "version": 3
   },
   "file_extension": ".py",
   "mimetype": "text/x-python",
   "name": "python",
   "nbconvert_exporter": "python",
   "pygments_lexer": "ipython3",
   "version": "3.11.8"
  }
 },
 "nbformat": 4,
 "nbformat_minor": 5
}
