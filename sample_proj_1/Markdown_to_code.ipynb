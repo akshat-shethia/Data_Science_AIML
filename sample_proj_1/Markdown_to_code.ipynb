{
 "cells": [
  {
   "cell_type": "code",
   "execution_count": 1,
   "id": "7f49cdd4-10c5-409a-9618-1062c0e82ebd",
   "metadata": {},
   "outputs": [
    {
     "name": "stdout",
     "output_type": "stream",
     "text": [
      "hi\n"
     ]
    }
   ],
   "source": [
    "print(\"hi\")"
   ]
  },
  {
   "cell_type": "code",
   "execution_count": 2,
   "id": "3a368052-24ff-4cfb-85ad-ea068ddc07d3",
   "metadata": {},
   "outputs": [
    {
     "name": "stdout",
     "output_type": "stream",
     "text": [
      "Hi\n"
     ]
    }
   ],
   "source": [
    "print(\"Hi\")"
   ]
  },
  {
   "cell_type": "markdown",
   "id": "31131898-2088-494a-898e-8c046b87b74d",
   "metadata": {},
   "source": [
    "### To add a markdown:\n",
    "press esc -> press m -> press enter -> type your markdown text"
   ]
  },
  {
   "cell_type": "markdown",
   "id": "2b70137e-e9e1-4163-9d2b-d25e76e7d422",
   "metadata": {},
   "source": [
    "### To add a code \n",
    "press esc -> press y -> press enter -> type your markdown text"
   ]
  },
  {
   "cell_type": "code",
   "execution_count": null,
   "id": "271ef2a0-6163-4563-b12b-ebea8ea43e90",
   "metadata": {},
   "outputs": [],
   "source": []
  }
 ],
 "metadata": {
  "kernelspec": {
   "display_name": "Python 3 (ipykernel)",
   "language": "python",
   "name": "python3"
  },
  "language_info": {
   "codemirror_mode": {
    "name": "ipython",
    "version": 3
   },
   "file_extension": ".py",
   "mimetype": "text/x-python",
   "name": "python",
   "nbconvert_exporter": "python",
   "pygments_lexer": "ipython3",
   "version": "3.10.13"
  }
 },
 "nbformat": 4,
 "nbformat_minor": 5
}
