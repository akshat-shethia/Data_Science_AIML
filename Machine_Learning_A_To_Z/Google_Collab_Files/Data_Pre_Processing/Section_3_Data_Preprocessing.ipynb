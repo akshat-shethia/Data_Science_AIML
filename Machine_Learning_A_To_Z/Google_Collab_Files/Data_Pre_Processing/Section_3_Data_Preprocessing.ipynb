{
  "nbformat": 4,
  "nbformat_minor": 0,
  "metadata": {
    "colab": {
      "provenance": [],
      "authorship_tag": "ABX9TyNWXLTaNqzgZAF8Ox2U1BqS",
      "include_colab_link": true
    },
    "kernelspec": {
      "name": "python3",
      "display_name": "Python 3"
    },
    "language_info": {
      "name": "python"
    }
  },
  "cells": [
    {
      "cell_type": "markdown",
      "metadata": {
        "id": "view-in-github",
        "colab_type": "text"
      },
      "source": [
        "<a href=\"https://colab.research.google.com/github/akshat-shethia/Data_Science_AIML/blob/master/Machine_Learning_A_To_Z/Google_Collab_Files/Data_Pre_Processing/Section_3_Data_Preprocessing.ipynb\" target=\"_parent\"><img src=\"https://colab.research.google.com/assets/colab-badge.svg\" alt=\"Open In Colab\"/></a>"
      ]
    },
    {
      "cell_type": "code",
      "execution_count": null,
      "metadata": {
        "id": "QtyhxAkF7eNb"
      },
      "outputs": [],
      "source": []
    }
  ]
}